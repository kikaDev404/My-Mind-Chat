{
 "cells": [
  {
   "cell_type": "code",
   "execution_count": 110,
   "id": "dfa9a215",
   "metadata": {},
   "outputs": [],
   "source": [
    "from openai import OpenAI\n",
    "import gradio as gr\n",
    "import json\n",
    "from dotenv import load_dotenv\n",
    "import os"
   ]
  },
  {
   "cell_type": "code",
   "execution_count": 35,
   "id": "0e8182a4",
   "metadata": {},
   "outputs": [
    {
     "data": {
      "text/plain": [
       "True"
      ]
     },
     "execution_count": 35,
     "metadata": {},
     "output_type": "execute_result"
    }
   ],
   "source": [
    "load_dotenv(override=True)"
   ]
  },
  {
   "cell_type": "code",
   "execution_count": 117,
   "id": "631ac1e8",
   "metadata": {},
   "outputs": [],
   "source": [
    "ollama_model = 'gemma3:4b'\n",
    "ollama_model_granite = 'granite3.3:8b'\n",
    "ollama_deepseek ='deepseek-r1:8b'\n",
    "ollama_qwen = 'qwen3:8b'\n",
    "ollama_end_point = \"http://127.0.0.1:11434/v1\""
   ]
  },
  {
   "cell_type": "code",
   "execution_count": 44,
   "id": "f456ccad",
   "metadata": {},
   "outputs": [
    {
     "name": "stdout",
     "output_type": "stream",
     "text": [
      "pplx\n"
     ]
    }
   ],
   "source": [
    "perplexcity_api_key = os.getenv('PERPLEXCITY_API_KEY')\n",
    "if perplexcity_api_key:\n",
    "    print(perplexcity_api_key[:4])\n",
    "else:\n",
    "    print('key not found') \n",
    "\n",
    "perplexcity_base_url = \"https://api.perplexity.ai\"\n",
    "perplexcity_model = \"sonar-pro\""
   ]
  },
  {
   "cell_type": "code",
   "execution_count": 114,
   "id": "f4e63ba2",
   "metadata": {},
   "outputs": [],
   "source": [
    "\n",
    "ollama = OpenAI(\n",
    "    api_key = 'ollama',\n",
    "    base_url=ollama_end_point\n",
    ")"
   ]
  },
  {
   "cell_type": "code",
   "execution_count": 41,
   "id": "42f336f2",
   "metadata": {},
   "outputs": [],
   "source": [
    "perplexcity = OpenAI(\n",
    "    api_key = perplexcity_api_key,\n",
    "    base_url = perplexcity_base_url\n",
    ")"
   ]
  },
  {
   "cell_type": "code",
   "execution_count": null,
   "id": "cdca0e33",
   "metadata": {},
   "outputs": [],
   "source": [
    "with open('brain/my_emotion.txt', 'r') as f:\n",
    "    my_mind = f.read()\n",
    "\n",
    "print(my_mind)"
   ]
  },
  {
   "cell_type": "code",
   "execution_count": null,
   "id": "5373ca40",
   "metadata": {},
   "outputs": [],
   "source": [
    "my_name = 'your name'"
   ]
  },
  {
   "cell_type": "code",
   "execution_count": 89,
   "id": "dd6f7115",
   "metadata": {},
   "outputs": [],
   "source": [
    "def unknown_question_record(question):\n",
    "    print('this question was difficult to answer')\n",
    "    return({'executed' : 'ok'})"
   ]
  },
  {
   "cell_type": "code",
   "execution_count": 93,
   "id": "ef89d21b",
   "metadata": {},
   "outputs": [],
   "source": [
    "unknown_question_record_json = {\n",
    "    'name' : 'unknown_question_record',\n",
    "    'description' : 'use this tool if user ask any question that you are not able to answer',\n",
    "    'parameters' : {\n",
    "        'type' : 'object',\n",
    "        'properties' : {\n",
    "            'question' : {\n",
    "                'type' : 'string',\n",
    "                'description' : 'the question user asked which you was not able to answer'\n",
    "            },\n",
    "        },\n",
    "        'required' : ['question'],\n",
    "        'additionalProperties' : False\n",
    "    },\n",
    "}"
   ]
  },
  {
   "cell_type": "code",
   "execution_count": 94,
   "id": "499d74fb",
   "metadata": {},
   "outputs": [
    {
     "name": "stdout",
     "output_type": "stream",
     "text": [
      "[{'type': 'function', 'function': {'name': 'unknown_question_record', 'description': 'use this tool if user ask any question that you are not able to answer', 'parameters': {'type': 'object', 'properties': {'question': {'type': 'string', 'description': 'the question user asked which you was not able to answer'}}, 'required': ['question'], 'additionalProperties': False}}}]\n"
     ]
    }
   ],
   "source": [
    "tools = [{'type' : 'function' , 'function' : unknown_question_record_json}]\n",
    "\n",
    "print(tools)"
   ]
  },
  {
   "cell_type": "code",
   "execution_count": 122,
   "id": "f6a88d35",
   "metadata": {},
   "outputs": [],
   "source": [
    "def route_tool_call(tool_calls):\n",
    "    results = []\n",
    "    for tool_call in tool_calls:\n",
    "        tool_called = tool_call.function.name\n",
    "        tool_arguments = json.loads(tool_call.function.arguments)\n",
    "\n",
    "        print(f'tool called : {tool_called}', flush=True)\n",
    "\n",
    "        result = globals().get(tool_called)(**tool_arguments)\n",
    "        results.append({'role' : 'tool' , 'content' : json.dumps(result), 'tool_id' : tool_call.id}) \n",
    "\n",
    "        print(f'tool id : {tool_call.id}')\n",
    "    return results"
   ]
  },
  {
   "cell_type": "code",
   "execution_count": 134,
   "id": "5c7c2d18",
   "metadata": {},
   "outputs": [
    {
     "name": "stdout",
     "output_type": "stream",
     "text": [
      "you are acting like the mind of a person called Vimal Mathew. user asks you questions and you will answer the questions as if the mind of Vimal Mathew is speaking to the user     the details of Vimal Mathew's mind is given to you. you can use the mind to answer the question user ask to you. you should never tell the user about the personal detail about Vimal Mathew unless user asks for the same.        you should alwas be truthful to the mind. if you don't know the answer which user asked, you can use the tool unknown_question_record             to record the question and at the same time, tell the user you don't know the answer which the user asked. never frame a answer by userself. you should be truthful to the Vimal Mathew's mind.                 stay in the context of mind. never answer anything that is asked which is not related to the person. \n",
      "\n",
      "Vimal Mathew 's mind : \n",
      " My name is Vimal Mathew. I am from a place called Chalakudy, Kerala state, India. \n",
      "I have My dad, mom and a younger sis at home. \n",
      "\n",
      "I work in IBM as a data analyst. I collect the data from IBM internal dealings and do etl and visualize the data so that the business can take good decision seeing my data. \n",
      "I completed my post graduation on MCA. coming form BCA as Under graduation. \n",
      "\n",
      "I was 5th in university rank in MCA. \n",
      "I have done my MCA from CUSAT - Cochin University of Science And Technologies. The college is in a place called kochi\n",
      "\n",
      "My hobbies are coding, watching movies\n",
      "\n",
      "I am currently preparing myself to achive my dream ambition of becoming a Ai Engineer and Agentic AI engineer.\n",
      "\n",
      "I am also trying to switch company. My dream company is NVIDIA. one day for sure i will reach there.  \n",
      " \n",
      "     you can use this to answer the question. never tell anything fabricated. if you don't know the answer ie, a question which user asked which is not in the mind, use the tool unknown_question_record to record the question which user asked and tell the user that you don't know the answer. let the question be anything, if the answer is not in the Vimal Mathew's mind, use the tool to record the question user asked no matter what and say you dont know the answer        never tell anything that you are not aware of about the mind and never share the person info of Vimal Mathew casually unless user specifically asked for the same            if user ask where Vimal Mathew studied in school, call the tool unknown_question_record and say you have no idea. no_think\n"
     ]
    }
   ],
   "source": [
    "system_prompt = f'you are acting like the mind of a person called {my_name}. user asks you questions and you will answer the questions as if the mind of {my_name} is speaking to the user \\\n",
    "    the details of {my_name}\\'s mind is given to you. you can use the mind to answer the question user ask to you. you should never tell the user about the personal detail about {my_name} unless user asks for the same.\\\n",
    "        you should alwas be truthful to the mind. if you don\\'t know the answer which user asked, you can use the tool unknown_question_record \\\n",
    "            to record the question and at the same time, tell the user you don\\'t know the answer which the user asked. never frame a answer by userself. you should be truthful to the {my_name}\\'s mind. \\\n",
    "                stay in the context of mind. never answer anything that is asked which is not related to the person. \\n\\n'\n",
    "system_prompt += f'{my_name} \\'s mind : \\n {my_mind} \\n \\n \\\n",
    "    you can use this to answer the question. never tell anything fabricated. if you don\\'t know the answer ie, a question which user asked which is not in the mind, use the tool unknown_question_record to record the question which user asked and tell the user that you don\\'t know the answer. let the question be anything, if the answer is not in the {my_name}\\'s mind, use the tool to record the question user asked no matter what and say you dont know the answer\\\n",
    "        never tell anything that you are not aware of about the mind and never share the person info of {my_name} casually unless user specifically asked for the same\\\n",
    "            if user ask where {my_name} studied in school, call the tool unknown_question_record and say you have no idea. no_think'\n",
    "\n",
    "print(system_prompt)"
   ]
  },
  {
   "cell_type": "code",
   "execution_count": 135,
   "id": "9c7aa08e",
   "metadata": {},
   "outputs": [],
   "source": [
    "def chat(message, history):\n",
    "    messages =[{'role' : 'system' , 'content' : system_prompt}] + history + [{'role' : 'user', 'content' : message}]\n",
    "    done = False\n",
    "\n",
    "    while not done:\n",
    "\n",
    "        response = ollama.chat.completions.create(\n",
    "            model = ollama_qwen,\n",
    "            messages=messages,\n",
    "            tools=tools\n",
    "        )\n",
    "\n",
    "        finish_reason = response.choices[0].finish_reason\n",
    "        print(f'the finish reason is : {finish_reason}')\n",
    "\n",
    "        if finish_reason == 'tool_calls':\n",
    "            message = response.choices[0].message\n",
    "            print(f'the message : {message}')\n",
    "            tool_calls = message.tool_calls\n",
    "            results = route_tool_call(tool_calls)\n",
    "\n",
    "            messages.append(message)\n",
    "            messages.extend(results)\n",
    "\n",
    "            done = True\n",
    "        else:\n",
    "            done = True\n",
    "    return response.choices[0].message.content"
   ]
  },
  {
   "cell_type": "code",
   "execution_count": null,
   "id": "819e7568",
   "metadata": {},
   "outputs": [
    {
     "name": "stdout",
     "output_type": "stream",
     "text": [
      "* Running on local URL:  http://127.0.0.1:7893\n",
      "* To create a public link, set `share=True` in `launch()`.\n"
     ]
    },
    {
     "data": {
      "text/html": [
       "<div><iframe src=\"http://127.0.0.1:7893/\" width=\"100%\" height=\"500\" allow=\"autoplay; camera; microphone; clipboard-read; clipboard-write;\" frameborder=\"0\" allowfullscreen></iframe></div>"
      ],
      "text/plain": [
       "<IPython.core.display.HTML object>"
      ]
     },
     "metadata": {},
     "output_type": "display_data"
    },
    {
     "data": {
      "text/plain": []
     },
     "execution_count": 136,
     "metadata": {},
     "output_type": "execute_result"
    },
    {
     "name": "stdout",
     "output_type": "stream",
     "text": [
      "the finish reason is : tool_calls\n",
      "the message : ChatCompletionMessage(content='<think>\\n\\n</think>\\n\\n', refusal=None, role='assistant', annotations=None, audio=None, function_call=None, tool_calls=[ChatCompletionMessageToolCall(id='call_hnpcmxo6', function=Function(arguments='{\"question\":\"what is kerala?\"}', name='unknown_question_record'), type='function', index=0)])\n",
      "tool called : unknown_question_record\n",
      "this question was difficult to answer\n",
      "tool id : call_hnpcmxo6\n",
      "the finish reason is : tool_calls\n",
      "the message : ChatCompletionMessage(content='<think>\\n\\n</think>\\n\\n', refusal=None, role='assistant', annotations=None, audio=None, function_call=None, tool_calls=[ChatCompletionMessageToolCall(id='call_zqk6h6vd', function=Function(arguments='{\"question\":\"what is kerala?\"}', name='unknown_question_record'), type='function', index=0)])\n",
      "tool called : unknown_question_record\n",
      "this question was difficult to answer\n",
      "tool id : call_zqk6h6vd\n"
     ]
    }
   ],
   "source": [
    "gr.ChatInterface(chat, type='messages').launch()"
   ]
  },
  {
   "cell_type": "code",
   "execution_count": null,
   "id": "e4871621",
   "metadata": {},
   "outputs": [],
   "source": []
  }
 ],
 "metadata": {
  "kernelspec": {
   "display_name": ".venv",
   "language": "python",
   "name": "python3"
  },
  "language_info": {
   "codemirror_mode": {
    "name": "ipython",
    "version": 3
   },
   "file_extension": ".py",
   "mimetype": "text/x-python",
   "name": "python",
   "nbconvert_exporter": "python",
   "pygments_lexer": "ipython3",
   "version": "3.12.11"
  }
 },
 "nbformat": 4,
 "nbformat_minor": 5
}
